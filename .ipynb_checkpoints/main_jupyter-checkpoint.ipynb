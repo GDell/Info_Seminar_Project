{
 "cells": [
  {
   "cell_type": "code",
   "execution_count": 8,
   "metadata": {},
   "outputs": [],
   "source": [
    "import pandas as pd\n",
    "import numpy as np\n",
    "import os\n",
    "import requests\n",
    "import json\n",
    "import urllib.request\n",
    "import re\n",
    "import pickle"
   ]
  },
  {
   "cell_type": "code",
   "execution_count": 19,
   "metadata": {},
   "outputs": [
    {
     "name": "stdout",
     "output_type": "stream",
     "text": [
      "This \n",
      " {'mentioned', 'at', 'experiencedused', 'just', 'a', 'specific', 'hand', 'mentionedreferring', 'close', 'person', 'or', 'being', 'to', 'thing', 'indicated', 'handreferring', 'identify', 'used'} \n",
      "\n",
      "\n",
      "chapter \n",
      " {'with', 'branch', 'in', 'or', 'division', 'lifeperiod', 'booka', 'main', 'history', 'of', 'book,', 'a', 'distinctive', 'governing', 'group', 'community', 'bodya', 'religious', 'local', 'number', 'knightly', 'body', \"person's\", 'period', 'societylocal', 'orderreligious', 'timethe', 'typically', 'titledivision'} \n",
      "\n",
      "\n"
     ]
    }
   ],
   "source": [
    "app_id = '24ac8855'\n",
    "app_key = 'baa032bb2944756dcf361a18ae7e3ab9'\n",
    "\n",
    "language = 'en'\n",
    "word_id = 'Ace'.lower()\n",
    "\n",
    "url = 'https://od-api.oxforddictionaries.com:443/api/v1/entries/' + language + '/' + word_id.lower()\n",
    "\n",
    "#with urllib.request.urlopen(url) as url:\n",
    "    #data = json.loads(url.read().decode())\n",
    "    #print(data)\n",
    "\n",
    "actual_dictionary = {}\n",
    "\n",
    "def find_defs(diction):\n",
    "    \"\"\"\n",
    "    This function executes when we reach a list containing dictionary data strucutres that may contain several different\n",
    "    definitions for a given word. It runs through this list, for each list finding keys in the dictionary data\n",
    "    structure containing the string \"definitions\" or \"short_definitions\" and appending the corresponding value \n",
    "    (a string) of this key to a master string, which we call stringy. At the end of this function, we use the \n",
    "    built-in function set() on the list given to us by the .split() method. The reasons for a set are:\n",
    "    1) checking membership in sets is efficient in python\n",
    "    2) sets do not contain duplicate elements, so we are using less space.\n",
    "    \"\"\"\n",
    "    stringy = ''\n",
    "    for i in diction:\n",
    "        for k, v in i.items():\n",
    "            if k == 'definitions' or k == 'short_definitions':\n",
    "                stringy += v[0]\n",
    "    return set(stringy.split(' '))\n",
    "\n",
    "\n",
    "def find_definition(word):\n",
    "    \"\"\"\n",
    "    This function takes in a word as input and creates an entry in our dataset consisting of a word-definition pair.\n",
    "    \"\"\"\n",
    "    url = 'https://od-api.oxforddictionaries.com:443/api/v1/entries/en/' + word.lower()\n",
    "    # there may be times while looking up words that the dictionary does not contain a word for whatever reason.\n",
    "    # this chunk of code catches this error.\n",
    "    try:\n",
    "        r = requests.get(url, headers = {'app_id': app_id, 'app_key': app_key})\n",
    "        dicty = r.json()\n",
    "        \n",
    "        # this process is ugly, but it works. \n",
    "        # The structure of the data returned from the API call is a bit awkward.\n",
    "        first_layer = dicty['results']\n",
    "        second_layer = first_layer[0]\n",
    "        third_layer = second_layer['lexicalEntries']\n",
    "        # third layer contains multiple definitions or \"senses\" of the word\n",
    "        fourth_layer = third_layer[0]\n",
    "        fifth_layer = fourth_layer['entries']\n",
    "        sixth_layer = fifth_layer[0]\n",
    "        seventh_layer = sixth_layer['senses']\n",
    "        actual_dictionary[word] = find_defs(seventh_layer)\n",
    "    except json.JSONDecodeError:\n",
    "        pass\n",
    "    \n",
    "word_list = ['This', 'chapter', 'focuses']\n",
    "for word in word_list:\n",
    "    find_definition(word)\n",
    "\n",
    "def find_contents(diction):\n",
    "    try:\n",
    "        for k, v in diction.items():\n",
    "            print(k, '\\n', v, '\\n\\n')\n",
    "    except AttributeError:\n",
    "        for i in diction:\n",
    "            print(i, '\\n\\n')\n",
    "            \n",
    "# Defining functions using \"Pickle\" library that allow us to save python objects as .pkl files that, when loaded again,\n",
    "# act just like the objects we saved them as without needing to transform them.\n",
    "\n",
    "# This allows us to save a dictionary instead of needing to reconsruct a dictionary for each info-theoretic calculation.\n",
    "\n",
    "def save_obj(obj, name ):\n",
    "    with open('obj/'+ name + '.pkl', 'wb') as f:\n",
    "        pickle.dump(obj, f, pickle.HIGHEST_PROTOCOL)\n",
    "\n",
    "def load_obj(name):\n",
    "    with open('obj/' + name + '.pkl', 'rb') as f:\n",
    "        return pickle.load(f)\n",
    "\n",
    "save_obj(actual_dictionary, 'dictionary')"
   ]
  },
  {
   "cell_type": "code",
   "execution_count": 20,
   "metadata": {},
   "outputs": [
    {
     "data": {
      "text/plain": [
       "{'a',\n",
       " 'at',\n",
       " 'being',\n",
       " 'close',\n",
       " 'experiencedused',\n",
       " 'hand',\n",
       " 'handreferring',\n",
       " 'identify',\n",
       " 'indicated',\n",
       " 'just',\n",
       " 'mentioned',\n",
       " 'mentionedreferring',\n",
       " 'or',\n",
       " 'person',\n",
       " 'specific',\n",
       " 'thing',\n",
       " 'to',\n",
       " 'used'}"
      ]
     },
     "execution_count": 20,
     "metadata": {},
     "output_type": "execute_result"
    }
   ],
   "source": []
  },
  {
   "cell_type": "code",
   "execution_count": null,
   "metadata": {},
   "outputs": [],
   "source": []
  }
 ],
 "metadata": {
  "kernelspec": {
   "display_name": "Python 3",
   "language": "python",
   "name": "python3"
  },
  "language_info": {
   "codemirror_mode": {
    "name": "ipython",
    "version": 3
   },
   "file_extension": ".py",
   "mimetype": "text/x-python",
   "name": "python",
   "nbconvert_exporter": "python",
   "pygments_lexer": "ipython3",
   "version": "3.6.4"
  }
 },
 "nbformat": 4,
 "nbformat_minor": 2
}
