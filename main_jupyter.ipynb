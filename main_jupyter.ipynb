{
 "cells": [
  {
   "cell_type": "code",
   "execution_count": 5,
   "metadata": {},
   "outputs": [],
   "source": [
    "import pandas as pd\n",
    "import numpy as np\n",
    "import os\n",
    "import requests\n",
    "import json\n",
    "import urllib.request\n",
    "import re"
   ]
  },
  {
   "cell_type": "code",
   "execution_count": 11,
   "metadata": {},
   "outputs": [
    {
     "name": "stdout",
     "output_type": "stream",
     "text": [
      "This \n",
      " {'hand', 'mentionedreferring', 'mentioned', 'being', 'close', 'just', 'a', 'handreferring', 'used', 'at', 'to', 'specific', 'person', 'identify', 'or', 'indicated', 'experiencedused', 'thing'} \n",
      "\n",
      "\n",
      "chapter \n",
      " {'main', 'a', 'societylocal', 'or', 'distinctive', 'period', 'lifeperiod', 'booka', 'orderreligious', 'body', 'division', 'with', 'knightly', 'religious', 'group', 'in', 'typically', 'community', 'number', 'history', 'bodya', 'timethe', 'titledivision', \"person's\", 'branch', 'governing', 'local', 'book,', 'of'} \n",
      "\n",
      "\n"
     ]
    }
   ],
   "source": [
    "app_id = '24ac8855'\n",
    "app_key = 'baa032bb2944756dcf361a18ae7e3ab9'\n",
    "\n",
    "language = 'en'\n",
    "word_id = 'Ace'.lower()\n",
    "\n",
    "url = 'https://od-api.oxforddictionaries.com:443/api/v1/entries/' + language + '/' + word_id.lower()\n",
    "\n",
    "#with urllib.request.urlopen(url) as url:\n",
    "    #data = json.loads(url.read().decode())\n",
    "    #print(data)\n",
    "\n",
    "actual_dictionary = {}\n",
    "\n",
    "def find_defs(diction):\n",
    "    \"\"\"\n",
    "    This function executes when we reach a list containing dictionary data strucutres that may contain several different\n",
    "    definitions for a given word. It runs through this list, for each list finding keys in the dictionary data\n",
    "    structure containing the string \"definitions\" or \"short_definitions\" and appending the corresponding value \n",
    "    (a string) of this key to a master string, which we call stringy. At the end of this function, we use the \n",
    "    built-in function set() on the list given to us by the .split() method. The reasons for a set are:\n",
    "    1) checking membership in sets is efficient in python\n",
    "    2) sets do not contain duplicate elements, so we are using less space.\n",
    "    \"\"\"\n",
    "    stringy = ''\n",
    "    for i in diction:\n",
    "        for k, v in i.items():\n",
    "            if k == 'definitions' or k == 'short_definitions':\n",
    "                stringy += v[0]\n",
    "    return set(stringy.split(' '))\n",
    "\n",
    "\n",
    "def find_definition(word):\n",
    "    \"\"\"\n",
    "    This function takes in a word as input and creates an entry in our dataset consisting of a word-definition pair.\n",
    "    \"\"\"\n",
    "    url = 'https://od-api.oxforddictionaries.com:443/api/v1/entries/en/' + word.lower()\n",
    "    # there may be times while looking up words that the dictionary does not contain a word for whatever reason.\n",
    "    # this chunk of code catches this error.\n",
    "    try:\n",
    "        r = requests.get(url, headers = {'app_id': app_id, 'app_key': app_key})\n",
    "        dicty = r.json()\n",
    "        \n",
    "        # this process is ugly, but it works. \n",
    "        # The structure of the data returned from the API call is a bit awkward.\n",
    "        first_layer = dicty['results']\n",
    "        second_layer = first_layer[0]\n",
    "        third_layer = second_layer['lexicalEntries']\n",
    "        # third layer contains multiple definitions or \"senses\" of the word\n",
    "        fourth_layer = third_layer[0]\n",
    "        fifth_layer = fourth_layer['entries']\n",
    "        sixth_layer = fifth_layer[0]\n",
    "        seventh_layer = sixth_layer['senses']\n",
    "        actual_dictionary[word] = find_defs(seventh_layer)\n",
    "    except json.JSONDecodeError:\n",
    "        pass\n",
    "    \n",
    "word_list = ['This', 'chapter', 'focuses']\n",
    "for word in word_list:\n",
    "    find_definition(word)\n",
    "\n",
    "def find_contents(diction):\n",
    "    try:\n",
    "        for k, v in diction.items():\n",
    "            print(k, '\\n', v, '\\n\\n')\n",
    "    except AttributeError:\n",
    "        for i in diction:\n",
    "            print(i, '\\n\\n')\n",
    "            \n",
    "find_contents(actual_dictionary)"
   ]
  },
  {
   "cell_type": "code",
   "execution_count": null,
   "metadata": {},
   "outputs": [],
   "source": []
  }
 ],
 "metadata": {
  "kernelspec": {
   "display_name": "Python 3",
   "language": "python",
   "name": "python3"
  },
  "language_info": {
   "codemirror_mode": {
    "name": "ipython",
    "version": 3
   },
   "file_extension": ".py",
   "mimetype": "text/x-python",
   "name": "python",
   "nbconvert_exporter": "python",
   "pygments_lexer": "ipython3",
   "version": "3.6.4"
  }
 },
 "nbformat": 4,
 "nbformat_minor": 2
}
